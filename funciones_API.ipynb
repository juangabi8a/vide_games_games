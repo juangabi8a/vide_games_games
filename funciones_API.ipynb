{
 "cells": [
  {
   "cell_type": "markdown",
   "metadata": {},
   "source": [
    "### Importamos las librerias"
   ]
  },
  {
   "cell_type": "code",
   "execution_count": null,
   "metadata": {},
   "outputs": [],
   "source": [
    "import numpy as np\n",
    "import pandas as pd\n",
    "import math\n",
    "import ast"
   ]
  },
  {
   "cell_type": "markdown",
   "metadata": {},
   "source": [
    "### Importamos nuestros datos"
   ]
  },
  {
   "cell_type": "code",
   "execution_count": null,
   "metadata": {},
   "outputs": [],
   "source": [
    "data_games=pd.read_csv('games.csv')\n",
    "data_review=pd.read_csv('reviews.csv')\n",
    "data_items=pd.read_csv('items.csv')"
   ]
  },
  {
   "cell_type": "markdown",
   "metadata": {},
   "source": [
    "## Función numero uno"
   ]
  },
  {
   "cell_type": "code",
   "execution_count": null,
   "metadata": {},
   "outputs": [],
   "source": [
    "# Ejemplo función\n",
    "userdata('76561197970982479')"
   ]
  },
  {
   "cell_type": "code",
   "execution_count": null,
   "metadata": {},
   "outputs": [],
   "source": [
    "def userdata( User_id : str ):\n",
    "    \n",
    "    # creamos una maskara con la columna user_id y la guardamos en una lista (tolist())\n",
    "    lista_juego=data_items[data_items['user_id']==User_id]['item_id'].tolist()\n",
    "    \n",
    "    # creamos una lista vacia\n",
    "    lista_precio=[]\n",
    "\n",
    "    # agregamos a nuestra lista aquellos precios que coinciden con id\n",
    "    for i in lista_juego:\n",
    "\n",
    "        lista_precio.append(data_games[data_games['id']==i][\"price\"].tolist())\n",
    "        \n",
    "    \n",
    "    # contador de suma\n",
    "    suma = 0  \n",
    "\n",
    "    # este ciclo se encarga de sumar los valores de la lista y descartando aquellos valores nulos o vacios\n",
    "    for i in lista_juego:\n",
    "        prices = data_games[data_games['id'] == i][\"price\"].tolist()\n",
    "        \n",
    "        # Verifica si la lista de precios no está vacía\n",
    "        if prices:\n",
    "            # Filtra los valores no numéricos y nan y luego suma los valores\n",
    "            validar_prices = [p for p in prices if isinstance(p, (int, float)) and not math.isnan(p)]\n",
    "            # Suma los valores válidos de la lista de precios\n",
    "            suma += sum(validar_prices)  \n",
    "            \n",
    "            \n",
    "    cantidad_items=data_items[data_items['user_id']==User_id]['item_id'].count()\n",
    "    cantidad_review=data_review[data_review['user_id']==User_id]['sentiment_analysis'].count()      \n",
    "    recomendacion= (cantidad_review/cantidad_items)*100\n",
    "\n",
    "    return(print('La cantidad de dinero gastado por es usuario es de:',suma, 'y el procentajes de recomendacion es:', recomendacion))\n"
   ]
  },
  {
   "cell_type": "markdown",
   "metadata": {},
   "source": [
    "## Función numero dos"
   ]
  },
  {
   "cell_type": "code",
   "execution_count": null,
   "metadata": {},
   "outputs": [],
   "source": [
    "# Ingresar la fechas en formato YYYY-MM-DD\n",
    "countreviews('2011-01-01', '2014-12-31' )"
   ]
  },
  {
   "cell_type": "code",
   "execution_count": null,
   "metadata": {},
   "outputs": [],
   "source": [
    "def countreviews( fecha_inicio,  fecha_fin : str ):\n",
    "    ## nos aseguramos que le columna posted tenga el formato adecuado\n",
    "    data_review['posted'] = pd.to_datetime(data_review['posted'], format='%Y-%m-%d')\n",
    "\n",
    "    ## nos aseguramos que las fechas ingresadas  tenga el formato adecuado\n",
    "    fecha_inicio = pd.to_datetime(fecha_inicio)\n",
    "    fecha_fin = pd.to_datetime(fecha_fin)\n",
    "    return(print(len(data_review[(data_review['posted']>= fecha_inicio) & (data_review['posted']<=fecha_fin)]['user_id'].unique())))"
   ]
  },
  {
   "cell_type": "markdown",
   "metadata": {},
   "source": [
    "## Función numero tres"
   ]
  },
  {
   "cell_type": "code",
   "execution_count": null,
   "metadata": {},
   "outputs": [],
   "source": [
    "# INGRESA UN GENERO \n",
    "genre('Action')"
   ]
  },
  {
   "cell_type": "code",
   "execution_count": null,
   "metadata": {},
   "outputs": [],
   "source": [
    "def genre(genero:str):\n",
    "    # usamos una maskara para filtrar las columnas con que vamos a trabajar\n",
    "    ranking = data_items[data_items['genres_games'] == genero][['user_id', 'user_url', 'playtime_forever']]\n",
    "\n",
    "    # Realizar la operación de agrupación y suma\n",
    "    ranking = ranking.groupby('user_id').agg({'playtime_forever': 'sum', 'user_url': 'first'})\n",
    "\n",
    "    # Ordenar el ranking por 'playtime_forever'\n",
    "    ranking = ranking.sort_values(by='playtime_forever', ascending=False).reset_index()\n",
    "\n",
    "    # ordenamos las columnas\n",
    "    ranking=ranking[['user_id','user_url','playtime_forever']]\n",
    "\n",
    "    # Mostrar las 5 mejores filas\n",
    "    ranking.head(5)\n",
    "    \n",
    "    return(ranking.head(5))\n"
   ]
  }
 ],
 "metadata": {
  "language_info": {
   "name": "python"
  },
  "orig_nbformat": 4
 },
 "nbformat": 4,
 "nbformat_minor": 2
}
