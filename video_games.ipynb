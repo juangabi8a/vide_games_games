{
 "cells": [
  {
   "cell_type": "markdown",
   "metadata": {},
   "source": [
    "### Importamos las librerias con que vamos a trabajar a lo largo de este proyecto"
   ]
  },
  {
   "cell_type": "code",
   "execution_count": 1,
   "metadata": {},
   "outputs": [],
   "source": [
    "import pandas as pd \n",
    "import numpy as np\n",
    "import ast\n",
    "import json\n",
    "import emoji\n",
    "import re\n",
    "import nltk\n",
    "# Esto sirve para configurar NLTK. La primera vez puede tardar un poco\n",
    "nltk.download('punkt')\n",
    "nltk.download('stopwords')"
   ]
  },
  {
   "cell_type": "markdown",
   "metadata": {},
   "source": [
    "### Cargamos los datos\n",
    "Para realizar la carga de los datos debemos de realizar el siguiente proceso debido a que los archivos estan en formato json no lo podemos importar directamente con la libreria de pandas"
   ]
  },
  {
   "cell_type": "code",
   "execution_count": 2,
   "metadata": {},
   "outputs": [],
   "source": [
    "rows = []\n",
    "\n",
    "with open ('australian_user_reviews.json', encoding='utf-8') as f:\n",
    "    for line in f.readlines():\n",
    "        rows.append(ast.literal_eval(line))\n",
    "\n",
    "df_reviews = pd.DataFrame(rows)"
   ]
  },
  {
   "cell_type": "code",
   "execution_count": null,
   "metadata": {},
   "outputs": [],
   "source": [
    "rows = []\n",
    "\n",
    "with open ('australian_users_items.json', encoding='utf-8') as f:\n",
    "    for line in f.readlines():\n",
    "        rows.append(ast.literal_eval(line))\n",
    "\n",
    "df_items = pd.DataFrame(rows)"
   ]
  },
  {
   "cell_type": "code",
   "execution_count": 497,
   "metadata": {},
   "outputs": [],
   "source": [
    "filas = []\n",
    "\n",
    "with open(\"output_steam_games.json\", encoding='utf-8') as file:\n",
    "    for line in file.readlines():\n",
    "        filas.append(json.loads((line))) # Como los tipo de valores no eran strings que es el tipo esperado por ast.litreal_eval, usamos json.loads\n",
    "\n",
    "df_games = pd.DataFrame(filas)"
   ]
  },
  {
   "cell_type": "markdown",
   "metadata": {},
   "source": [
    "Asi se veria nuestro DataFrame df_reviews. Observar que la columna reviews tiene una lista de diccionario por lo cual debemos de realizar una series de pasos para poder desanidar esta columna "
   ]
  },
  {
   "cell_type": "code",
   "execution_count": 6,
   "metadata": {},
   "outputs": [
    {
     "data": {
      "text/html": [
       "<div>\n",
       "<style scoped>\n",
       "    .dataframe tbody tr th:only-of-type {\n",
       "        vertical-align: middle;\n",
       "    }\n",
       "\n",
       "    .dataframe tbody tr th {\n",
       "        vertical-align: top;\n",
       "    }\n",
       "\n",
       "    .dataframe thead th {\n",
       "        text-align: right;\n",
       "    }\n",
       "</style>\n",
       "<table border=\"1\" class=\"dataframe\">\n",
       "  <thead>\n",
       "    <tr style=\"text-align: right;\">\n",
       "      <th></th>\n",
       "      <th>user_id</th>\n",
       "      <th>user_url</th>\n",
       "      <th>reviews</th>\n",
       "    </tr>\n",
       "  </thead>\n",
       "  <tbody>\n",
       "    <tr>\n",
       "      <th>0</th>\n",
       "      <td>76561197970982479</td>\n",
       "      <td>http://steamcommunity.com/profiles/76561197970...</td>\n",
       "      <td>[{'funny': '', 'posted': 'Posted November 5, 2...</td>\n",
       "    </tr>\n",
       "    <tr>\n",
       "      <th>1</th>\n",
       "      <td>js41637</td>\n",
       "      <td>http://steamcommunity.com/id/js41637</td>\n",
       "      <td>[{'funny': '', 'posted': 'Posted June 24, 2014...</td>\n",
       "    </tr>\n",
       "    <tr>\n",
       "      <th>2</th>\n",
       "      <td>evcentric</td>\n",
       "      <td>http://steamcommunity.com/id/evcentric</td>\n",
       "      <td>[{'funny': '', 'posted': 'Posted February 3.',...</td>\n",
       "    </tr>\n",
       "    <tr>\n",
       "      <th>3</th>\n",
       "      <td>doctr</td>\n",
       "      <td>http://steamcommunity.com/id/doctr</td>\n",
       "      <td>[{'funny': '', 'posted': 'Posted October 14, 2...</td>\n",
       "    </tr>\n",
       "    <tr>\n",
       "      <th>4</th>\n",
       "      <td>maplemage</td>\n",
       "      <td>http://steamcommunity.com/id/maplemage</td>\n",
       "      <td>[{'funny': '3 people found this review funny',...</td>\n",
       "    </tr>\n",
       "  </tbody>\n",
       "</table>\n",
       "</div>"
      ],
      "text/plain": [
       "             user_id                                           user_url  \\\n",
       "0  76561197970982479  http://steamcommunity.com/profiles/76561197970...   \n",
       "1            js41637               http://steamcommunity.com/id/js41637   \n",
       "2          evcentric             http://steamcommunity.com/id/evcentric   \n",
       "3              doctr                 http://steamcommunity.com/id/doctr   \n",
       "4          maplemage             http://steamcommunity.com/id/maplemage   \n",
       "\n",
       "                                             reviews  \n",
       "0  [{'funny': '', 'posted': 'Posted November 5, 2...  \n",
       "1  [{'funny': '', 'posted': 'Posted June 24, 2014...  \n",
       "2  [{'funny': '', 'posted': 'Posted February 3.',...  \n",
       "3  [{'funny': '', 'posted': 'Posted October 14, 2...  \n",
       "4  [{'funny': '3 people found this review funny',...  "
      ]
     },
     "execution_count": 6,
     "metadata": {},
     "output_type": "execute_result"
    }
   ],
   "source": [
    "df_reviews.head()"
   ]
  },
  {
   "cell_type": "code",
   "execution_count": 7,
   "metadata": {},
   "outputs": [],
   "source": [
    "data_desanidada = []\n",
    "\n",
    "for index, row in df_items.iterrows():\n",
    "    user_id = row['user_id']\n",
    "    items_count = row['items_count']\n",
    "    steam_id = row['steam_id']\n",
    "    user_url = row['user_url']\n",
    "    items = row['items']\n",
    "    \n",
    "    for i in items:   \n",
    "        new_row = {\n",
    "        'user_id': user_id,\n",
    "        'items_count': items_count,\n",
    "        'steam_id' : steam_id,\n",
    "        'user_url' : user_url,\n",
    "        'item_id': i.get('item_id', ''),\n",
    "        'item_name': i.get('item_name', ''),\n",
    "        'playtime_forever': i.get('playtime_forever', ''),\n",
    "        'playtime_2weeks': i.get('playtime_2weeks', '')\n",
    "        }\n",
    "        \n",
    "        data_desanidada.append(new_row)\n",
    "\n",
    "df_items_desanidada = pd.DataFrame(data_desanidada)"
   ]
  },
  {
   "cell_type": "markdown",
   "metadata": {},
   "source": [
    "El paso anterior tambien lo repetimos para el DataFrame de df_reviews en la columna reviews tambien es una lista de diccionario"
   ]
  },
  {
   "cell_type": "code",
   "execution_count": 238,
   "metadata": {},
   "outputs": [],
   "source": [
    "data_desanidada = []\n",
    "\n",
    "for index, row in df_reviews.iterrows():\n",
    "    user_id = row['user_id']\n",
    "    user_url = row['user_url']\n",
    "    \n",
    "    reviews= row['reviews']\n",
    "    \n",
    "    \n",
    "    for i in reviews:   \n",
    "        new_row = {\n",
    "        'user_id': user_id,\n",
    "        'user_url':user_url,\n",
    "        \n",
    "        'funny': i.get('funny', ''),\n",
    "        'posted': i.get('posted', ''),\n",
    "        'last_edited': i.get('last_edited', ''),\n",
    "        'item_id': i.get('item_id', ''),\n",
    "        'helpful': i.get('helpful', ''),\n",
    "        'recommend': i.get('recommend', ''),\n",
    "        'review': i.get('review', '')\n",
    "        }\n",
    "        \n",
    "        data_desanidada.append(new_row)\n",
    "\n",
    "df_reviews_desanidada=pd.DataFrame(data_desanidada)"
   ]
  },
  {
   "cell_type": "code",
   "execution_count": 239,
   "metadata": {},
   "outputs": [
    {
     "data": {
      "text/plain": [
       "59275"
      ]
     },
     "execution_count": 239,
     "metadata": {},
     "output_type": "execute_result"
    }
   ],
   "source": [
    "len(df_reviews_desanidada[df_reviews_desanidada['review']!=\"\"])"
   ]
  },
  {
   "cell_type": "markdown",
   "metadata": {},
   "source": [
    "## Analisis de sentimiento\n",
    "Este analisis lo vamos a realizar para nuestro df_reviews_desanidada el cual tiene las reviews hecha por los usuarios de los video juegos. Para lo cual es necesario que nuestra columna reviews no tenga valores nulos o vacios para lo cual aplicamos una mascara que filtre todos los valores execto los vacios."
   ]
  },
  {
   "cell_type": "code",
   "execution_count": 240,
   "metadata": {},
   "outputs": [],
   "source": [
    "## aplicamos una mascara que nos dejen aquellas filas que no son vacias y la guargamos en la variable data_reviews_desanidada \n",
    "df_reviews_desanidada=df_reviews_desanidada[df_reviews_desanidada['review']!=\"\"]"
   ]
  },
  {
   "cell_type": "markdown",
   "metadata": {},
   "source": [
    "Como nuestra columnas de review tiene comentario con emojis es necesarios filtrar todo esto emojis para realizar un tratamiento de datos con el proposito de obtener mayor informacion para realizar nuestro analisis de sentimiento. para lo cual vamos apoyar en una libreria llamada **emoji** "
   ]
  },
  {
   "cell_type": "markdown",
   "metadata": {},
   "source": [
    "Lo primero que vamos hacer es crear una funcion (emojis_count(x)) a la cual le vamos a ingresar como parametro (x) un texto y esta a su vez devolvera una lista con los emojis que se encuanta en dicho texto"
   ]
  },
  {
   "cell_type": "code",
   "execution_count": 243,
   "metadata": {},
   "outputs": [],
   "source": [
    "def emojis_count(x):\n",
    "    emojis = []\n",
    "    emojis_encontrados = emoji.emoji_list(x)\n",
    "    if emojis_encontrados == '':\n",
    "        return ''\n",
    "    for e in emojis_encontrados:\n",
    "        emojis.append(e['emoji'])\n",
    "    return emojis"
   ]
  },
  {
   "cell_type": "markdown",
   "metadata": {},
   "source": [
    "Utilizamos la funcion lambda la cual nos va ayudar a ingresar uno a uno de los texto de la columna reviwe en la funcion que creamos en el paso anterios y nos devolvera una lista en caso de no encontrar emojis devuelve una lista vacia"
   ]
  },
  {
   "cell_type": "code",
   "execution_count": 244,
   "metadata": {},
   "outputs": [
    {
     "data": {
      "text/plain": [
       "0                     []\n",
       "1                     []\n",
       "2                     []\n",
       "3              [♥, ♥, ♥]\n",
       "4        [♥, ♥, ♥, ♥, ♥]\n",
       "              ...       \n",
       "59300                 []\n",
       "59301                 []\n",
       "59302                 []\n",
       "59303                 []\n",
       "59304                 []\n",
       "Name: review, Length: 59275, dtype: object"
      ]
     },
     "execution_count": 244,
     "metadata": {},
     "output_type": "execute_result"
    }
   ],
   "source": [
    "emojis = df_reviews_desanidada['review'].apply(lambda x: emojis_count(x))\n",
    "emojis"
   ]
  },
  {
   "cell_type": "markdown",
   "metadata": {},
   "source": [
    "La siguiente funcion (obtener_emojis_unicos(emojis)) devuelva una lista de emojis unicos es decir eliminando a los emojis repetidos"
   ]
  },
  {
   "cell_type": "code",
   "execution_count": 245,
   "metadata": {},
   "outputs": [],
   "source": [
    "def obtener_emojis_unicos(emojis):\n",
    "    return list(set(emojis))"
   ]
  },
  {
   "cell_type": "code",
   "execution_count": null,
   "metadata": {},
   "outputs": [],
   "source": [
    "#####  salto de linea\n",
    "#####"
   ]
  },
  {
   "cell_type": "markdown",
   "metadata": {},
   "source": [
    "En el proximo paso hacemos dos procesos:\n",
    "    1. filtramos las lista vacias dada en el paso anterios\n",
    "    2. utilizamos la funcion creados en el paso anterior (obtener_emojis_unicos(emojis)) para eliminar aquellos emojis repetidos"
   ]
  },
  {
   "cell_type": "code",
   "execution_count": 246,
   "metadata": {},
   "outputs": [],
   "source": [
    "emojis = emojis[emojis.apply(lambda x: len(x) > 0)]\n",
    "emojis = emojis.apply(obtener_emojis_unicos)"
   ]
  },
  {
   "cell_type": "markdown",
   "metadata": {},
   "source": [
    "Eliminamos los duplicados"
   ]
  },
  {
   "cell_type": "code",
   "execution_count": 248,
   "metadata": {},
   "outputs": [
    {
     "data": {
      "text/plain": [
       "28"
      ]
     },
     "execution_count": 248,
     "metadata": {},
     "output_type": "execute_result"
    }
   ],
   "source": [
    "emojis.drop_duplicates(inplace=True)\n",
    "emojis.count()"
   ]
  },
  {
   "cell_type": "markdown",
   "metadata": {},
   "source": [
    "Aqui tenemos todos los emojis que se encontraba en la columna de review"
   ]
  },
  {
   "cell_type": "code",
   "execution_count": 250,
   "metadata": {},
   "outputs": [
    {
     "data": {
      "text/plain": [
       "3                       [♥]\n",
       "330                     [👌]\n",
       "452                  [❤, ♥]\n",
       "509                     [©]\n",
       "3546                    [❤]\n",
       "3854                    [®]\n",
       "4384                    [™]\n",
       "9144                    [😄]\n",
       "9549           [❤, ☹, ☑, ☺]\n",
       "12525               [👈🏻, 😋]\n",
       "12949                   [😀]\n",
       "13401                   [✔]\n",
       "18124                   [😃]\n",
       "18562       [👌, 💯, 👀, ♥, ✔]\n",
       "18574                [®, ♥]\n",
       "20439    [⌛, ❤, ◀, ☑, ☹, ☺]\n",
       "20568                [™, ♥]\n",
       "22475                   [💋]\n",
       "22518                   [👍]\n",
       "22858                [☑, ♥]\n",
       "22952                   [♀]\n",
       "24567                   [🐐]\n",
       "26071                   [🐥]\n",
       "33945                   [💀]\n",
       "42284          [👌, ✔, 💯, 👀]\n",
       "44187                   [😊]\n",
       "44736                   [♠]\n",
       "52523             [☹, ♥, ☺]\n",
       "Name: review, dtype: object"
      ]
     },
     "execution_count": 250,
     "metadata": {},
     "output_type": "execute_result"
    }
   ],
   "source": [
    "emojis"
   ]
  },
  {
   "cell_type": "markdown",
   "metadata": {},
   "source": [
    "creamos una lista un diccionario con todos los emojis encontrados y a cada emojis se le asignos una palabra con la cual vamos a remplazar dicho emoji. Adicionamente le pedimos a chatgpt que nos diera ua lista de emojis de signos de puntuacion (:D, :p, :(), <3 ) a los cuales tambien le asignamos una palabra"
   ]
  },
  {
   "cell_type": "code",
   "execution_count": 251,
   "metadata": {},
   "outputs": [],
   "source": [
    "## creamos una lista con los emojis juanto con las palabra que vamos a utilizar de remplazos\n",
    "\n",
    "emoji_reemplazos = {\n",
    "    '✔': 'Approved ',\n",
    "    '💯': 'Perfect ',\n",
    "    '♀': 'Woman ',\n",
    "    '❤': 'Love ',\n",
    "    '💋': 'Kiss ',\n",
    "    '💀': 'Skull ',\n",
    "    '™': 'Trademark ',\n",
    "    '®': 'Registered Trademark ',\n",
    "    '©': 'Copyright ',\n",
    "    '☺': 'Smile ',\n",
    "    '♥': 'Heart ',\n",
    "    '👌': 'Okay ',\n",
    "    '👀': 'Eye ',\n",
    "    '⌛': 'Hourglass ',\n",
    "    '☹': 'Sad ',\n",
    "    '☑': 'Checked ',\n",
    "    '😊': 'Happiness ',\n",
    "    '😄': 'Happiness ',\n",
    "    '◀': 'Left ',\n",
    "    ':D': 'laugh ',\n",
    "    ':3': 'smile',\n",
    "    'xD': 'laughloud',\n",
    "    'ô•': 'oh',\n",
    "    ':c': 'adictive',\n",
    "    ':)': 'happy',\n",
    "    ':p': 'boring',\n",
    "    '^^': 'good',\n",
    "    'D=': 'pain',\n",
    "    ':(': 'sad',\n",
    "    'xd': 'happiness',\n",
    "    '=P': 'crazy',\n",
    "    '<3': 'heart',\n",
    "    ';>': 'blink',\n",
    "    '(Y)': 'thumbs up',\n",
    "    '---': 'enjoyable',\n",
    "    ',3': 'amazing',\n",
    "    'xt': 'unwanted',\n",
    "    '-' : 'recommended',\n",
    "    ':}': 'good',\n",
    "    'c:': 'happy',\n",
    "    ':v': 'want more',\n",
    "    'x3': 'cute face',\n",
    "    'XD': 'adictive',\n",
    "    '(y)': 'thumbs up',\n",
    "    ':P': 'bad',\n",
    "    ';0': 'laugh',\n",
    "    '=)': 'happy',\n",
    "    'gg': 'great game',\n",
    "    'GG': 'great game',\n",
    "    ';D': 'great game',\n",
    "    ':c': 'sad'\n",
    "}"
   ]
  },
  {
   "cell_type": "markdown",
   "metadata": {},
   "source": [
    "Creamos una funcion la cual va a remplazar cada uno de los emojis por las palabras asinadas"
   ]
  },
  {
   "cell_type": "code",
   "execution_count": 252,
   "metadata": {},
   "outputs": [],
   "source": [
    "def replace_emojis(text):\n",
    "    for emoji, replacement in emoji_reemplazos.items():\n",
    "        text = text.replace(emoji, replacement)\n",
    "    return text"
   ]
  },
  {
   "cell_type": "markdown",
   "metadata": {},
   "source": [
    "Aplicamos la funcion replace_emojis(text) a nuestra columna de review"
   ]
  },
  {
   "cell_type": "code",
   "execution_count": 253,
   "metadata": {},
   "outputs": [],
   "source": [
    "df_reviews_desanidada['review']=df_reviews_desanidada['review'].apply(replace_emojis)"
   ]
  },
  {
   "cell_type": "markdown",
   "metadata": {},
   "source": [
    "### Importamos las siguentes librerias para hacer nuestro analisis de sentimeto"
   ]
  },
  {
   "cell_type": "code",
   "execution_count": null,
   "metadata": {},
   "outputs": [],
   "source": [
    "# Importamos esta libreria que nos permite reemplzar caracteres\n",
    "import re\n",
    "\n",
    "# Importamos la función que nos permite Stemmizar de nltk y definimos el stemmer\n",
    "from nltk.stem import PorterStemmer\n",
    "stemmer = PorterStemmer()\n",
    "\n",
    "# Traemos nuevamente las stopwords\n",
    "stopwords = nltk.corpus.stopwords.words('english')\n"
   ]
  },
  {
   "cell_type": "markdown",
   "metadata": {},
   "source": [
    "El siguente bloque de codigo lo utilizamos para normalizar nuestra columna de reviews con el fin de poder utilizar nuestra libreria de nltk y poder realizar el analisis de sentimieto"
   ]
  },
  {
   "cell_type": "code",
   "execution_count": 262,
   "metadata": {},
   "outputs": [
    {
     "name": "stdout",
     "output_type": "stream",
     "text": [
      "                 user_id                                           user_url  \\\n",
      "0      76561197970982479  http://steamcommunity.com/profiles/76561197970...   \n",
      "1      76561197970982479  http://steamcommunity.com/profiles/76561197970...   \n",
      "2      76561197970982479  http://steamcommunity.com/profiles/76561197970...   \n",
      "3                js41637               http://steamcommunity.com/id/js41637   \n",
      "4                js41637               http://steamcommunity.com/id/js41637   \n",
      "...                  ...                                                ...   \n",
      "59300  76561198312638244  http://steamcommunity.com/profiles/76561198312...   \n",
      "59301  76561198312638244  http://steamcommunity.com/profiles/76561198312...   \n",
      "59302        LydiaMorley           http://steamcommunity.com/id/LydiaMorley   \n",
      "59303        LydiaMorley           http://steamcommunity.com/id/LydiaMorley   \n",
      "59304        LydiaMorley           http://steamcommunity.com/id/LydiaMorley   \n",
      "\n",
      "                                  funny                     posted  \\\n",
      "0                                         Posted November 5, 2011.   \n",
      "1                                            Posted July 15, 2011.   \n",
      "2                                           Posted April 21, 2011.   \n",
      "3                                            Posted June 24, 2014.   \n",
      "4                                        Posted September 8, 2013.   \n",
      "...                                 ...                        ...   \n",
      "59300                                              Posted July 10.   \n",
      "59301                                               Posted July 8.   \n",
      "59302  1 person found this review funny             Posted July 3.   \n",
      "59303                                              Posted July 20.   \n",
      "59304                                               Posted July 2.   \n",
      "\n",
      "      last_edited item_id                                          helpful  \\\n",
      "0                    1250                                   No ratings yet   \n",
      "1                   22200                                   No ratings yet   \n",
      "2                   43110                                   No ratings yet   \n",
      "3                  251610  15 of 20 people (75%) found this review helpful   \n",
      "4                  227300     0 of 1 people (0%) found this review helpful   \n",
      "...           ...     ...                                              ...   \n",
      "59300                  70                                   No ratings yet   \n",
      "59301              362890                                   No ratings yet   \n",
      "59302              273110    1 of 2 people (50%) found this review helpful   \n",
      "59303                 730                                   No ratings yet   \n",
      "59304                 440                                   No ratings yet   \n",
      "\n",
      "       recommend                                             review  \\\n",
      "0           True  Simple yet with great replayability. In my opi...   \n",
      "1           True               It's unique and worth a playthrough.   \n",
      "2           True  Great atmosphere. The gunplay can be a bit chu...   \n",
      "3           True  I know what you think when you see this title ...   \n",
      "4           True  For a simple (it's actually not all that simpl...   \n",
      "...          ...                                                ...   \n",
      "59300       True  a must have classic from steam definitely wort...   \n",
      "59301       True  this game is a perfect remake of the original ...   \n",
      "59302       True  had so much fun plaing this and collecting res...   \n",
      "59303       True                                             laugh    \n",
      "59304       True                                 so much fun laugh    \n",
      "\n",
      "                                     titular_normalizado  \\\n",
      "0      simpl yet great replay opinion zombi hord team...   \n",
      "1                                uniqu worth playthrough   \n",
      "2      great atmospher gunplay bit chunki time end da...   \n",
      "3      know think see titl barbi dreamhous parti inti...   \n",
      "4      simpl actual simpl truck drive simul quit fun ...   \n",
      "...                                                  ...   \n",
      "59300               must classic steam definit worth buy   \n",
      "59301  game perfect remak origin half life person one...   \n",
      "59302  much fun pla collect resourc laughloud first t...   \n",
      "59303                                              laugh   \n",
      "59304                                     much fun laugh   \n",
      "\n",
      "                                      review_normalizado  \n",
      "0      simpl yet great replay opinion zombi hord team...  \n",
      "1                                uniqu worth playthrough  \n",
      "2      great atmospher gunplay bit chunki time end da...  \n",
      "3      know think see titl barbi dreamhous parti inti...  \n",
      "4      simpl actual simpl truck drive simul quit fun ...  \n",
      "...                                                  ...  \n",
      "59300               must classic steam definit worth buy  \n",
      "59301  game perfect remak origin half life person one...  \n",
      "59302  much fun pla collect resourc laughloud first t...  \n",
      "59303                                              laugh  \n",
      "59304                                     much fun laugh  \n",
      "\n",
      "[59275 rows x 11 columns]\n"
     ]
    }
   ],
   "source": [
    "review_list = []\n",
    "\n",
    "# Itera a través de las filas del DataFrame y su columna 'review'\n",
    "for index, row in df_reviews_desanidada.iterrows():\n",
    "    review = row['review']\n",
    "    \n",
    "    # Reemplazamos los caracteres que no sean letras por espacios\n",
    "    review = re.sub(\"[^a-zA-Z]\", \" \", str(review))\n",
    "    \n",
    "    # Convertimos todo a minúsculas\n",
    "    reviewr = review.lower()\n",
    "    \n",
    "    # Tokenizamos para separar las palabras\n",
    "    review = nltk.word_tokenize(review)\n",
    "    \n",
    "    # Eliminamos las palabras de menos de 1 caracter\n",
    "    review = [palabra for palabra in review if len(palabra) > 1]\n",
    "    \n",
    "    # Sacamos las Stopwords\n",
    "    review = [palabra for palabra in review if not palabra in stopwords]\n",
    "    \n",
    "    # Aplicamos la función para buscar la raíz de las palabras\n",
    "    review = [stemmer.stem(palabra) for palabra in review]\n",
    "    \n",
    "    # Por último, volvemos a unir el titular\n",
    "    review = \" \".join(review)\n",
    "    \n",
    "    # Agregamos el titular procesado a la lista\n",
    "    review_list.append(review)\n",
    "\n",
    "# Crear una nueva columna en el DataFrame con los titulares procesados\n",
    "df_reviews_desanidada['review_normalizado'] = review_list\n",
    "\n",
    "# Imprimir el DataFrame con los titulares procesados\n",
    "print(df_reviews_desanidada)"
   ]
  },
  {
   "cell_type": "markdown",
   "metadata": {},
   "source": [
    "convertimos la columna recommden a a dummy"
   ]
  },
  {
   "cell_type": "code",
   "execution_count": 267,
   "metadata": {},
   "outputs": [],
   "source": [
    "dummy_recommend=pd.get_dummies(df_reviews_desanidada[\"recommend\"], prefix=\"recommend\").astype(int)"
   ]
  },
  {
   "cell_type": "code",
   "execution_count": 269,
   "metadata": {},
   "outputs": [],
   "source": [
    "df_reviews_desanidada=pd.concat([df_reviews_desanidada,dummy_recommend], axis=1)"
   ]
  },
  {
   "cell_type": "markdown",
   "metadata": {},
   "source": [
    "## Procesamiento de los sentimiento de la columna review"
   ]
  },
  {
   "cell_type": "markdown",
   "metadata": {},
   "source": [
    "Importamos la libreria nlyk para analizar los sentimieto de nuestra columna reviews"
   ]
  },
  {
   "cell_type": "code",
   "execution_count": 278,
   "metadata": {},
   "outputs": [],
   "source": [
    "## libreria para analizar los sentimiento\n",
    "from nltk.sentiment.vader import SentimentIntensityAnalyzer"
   ]
  },
  {
   "cell_type": "markdown",
   "metadata": {},
   "source": [
    "Opcional: En caso de que la libreria nltk no pueda cargar el archivo vader usar el siguiente codigo"
   ]
  },
  {
   "cell_type": "code",
   "execution_count": 282,
   "metadata": {},
   "outputs": [
    {
     "name": "stderr",
     "output_type": "stream",
     "text": [
      "[nltk_data] Downloading package vader_lexicon to\n",
      "[nltk_data]     C:\\Users\\PC\\AppData\\Roaming\\nltk_data...\n"
     ]
    },
    {
     "data": {
      "text/plain": [
       "True"
      ]
     },
     "execution_count": 282,
     "metadata": {},
     "output_type": "execute_result"
    }
   ],
   "source": [
    "\n",
    "import nltk\n",
    "nltk.download('vader_lexicon')"
   ]
  },
  {
   "cell_type": "markdown",
   "metadata": {},
   "source": [
    "#### A continuacion daremos un breve ejemplo de como la libreria nltk analisa los snetimientos"
   ]
  },
  {
   "cell_type": "markdown",
   "metadata": {},
   "source": [
    "texto a analizar"
   ]
  },
  {
   "cell_type": "code",
   "execution_count": 288,
   "metadata": {},
   "outputs": [],
   "source": [
    "\n",
    "x=\"it is a charming and beautiful produc\""
   ]
  },
  {
   "cell_type": "markdown",
   "metadata": {},
   "source": [
    "Instanciamos el analizadosr de texto y analizamos el texto anterior"
   ]
  },
  {
   "cell_type": "code",
   "execution_count": 289,
   "metadata": {},
   "outputs": [],
   "source": [
    "sid = SentimentIntensityAnalyzer()  # Instanciamos el analizados de texto\n",
    "resultado= sid.polarity_scores(x) # analizamos el texto"
   ]
  },
  {
   "cell_type": "markdown",
   "metadata": {},
   "source": [
    "Observece que no deuelve la probabilidad de que el texto tenga sentimiento negativo, sentimiento neutro y sentimiento positivo. En esta caso sentimiento positivo tiene una probo de 0.658. tambien lo podemos analizar con la imformacion que nos proporciona el compound el cual nos indica que si es mayor a 0 el texto tiene sentimiento positivio, si el compound es menor a 0 el sentimiento del texto es negativo y si el compound es igual a 0 el sentimieto del texto es neutro"
   ]
  },
  {
   "cell_type": "code",
   "execution_count": 290,
   "metadata": {},
   "outputs": [
    {
     "data": {
      "text/plain": [
       "{'neg': 0.0, 'neu': 0.342, 'pos': 0.658, 'compound': 0.8271}"
      ]
     },
     "execution_count": 290,
     "metadata": {},
     "output_type": "execute_result"
    }
   ],
   "source": [
    "resultado"
   ]
  },
  {
   "cell_type": "markdown",
   "metadata": {},
   "source": [
    "Aplicamos la funcion lambda para que a cada uno de lo elemento de la columna review_normalizado le aplique el analisis de sentimiento y nos devuelva como resultado solo el compound y la va almancenar en una nueva columna de nombre sentiment_analysis"
   ]
  },
  {
   "cell_type": "code",
   "execution_count": 340,
   "metadata": {},
   "outputs": [],
   "source": [
    "df_reviews_desanidada['sentiment_analysis']=df_reviews_desanidada[\"review_normalizado\"].apply(lambda i: sid.polarity_scores(i)['compound'])"
   ]
  },
  {
   "cell_type": "code",
   "execution_count": null,
   "metadata": {},
   "outputs": [],
   "source": [
    "### 'compound'>0 sentimieto positivo\n",
    "### 'compound'< Sentimiento negativo\n",
    "### 'compound' == 0 sentimiento neutro"
   ]
  },
  {
   "cell_type": "markdown",
   "metadata": {},
   "source": [
    "Remplazamos los valores de las columna 'sentiment_analysis' por los parametros dados en el readme del proyecto"
   ]
  },
  {
   "cell_type": "markdown",
   "metadata": {},
   "source": [
    "- NOTA: tener en cuenta el orden en que se realiza los remplazos debido a que podemos trocar los valores"
   ]
  },
  {
   "cell_type": "code",
   "execution_count": 345,
   "metadata": {},
   "outputs": [],
   "source": [
    "df_reviews_desanidada.loc[df_reviews_desanidada['sentiment_analysis']>0,'sentiment_analysis']=2\n",
    "df_reviews_desanidada.loc[df_reviews_desanidada['sentiment_analysis']==0,'sentiment_analysis']=1\n",
    "df_reviews_desanidada.loc[df_reviews_desanidada['sentiment_analysis']<0,'sentiment_analysis']=0"
   ]
  },
  {
   "cell_type": "markdown",
   "metadata": {},
   "source": [
    "## Realizamos el ETL"
   ]
  },
  {
   "cell_type": "markdown",
   "metadata": {},
   "source": [
    "Guardamos la data de df_reviews_desanidada en la variable data_review por si cometemos algun error no tengamos que volver a cargar la data y repetir todos los procesos anterioes"
   ]
  },
  {
   "cell_type": "code",
   "execution_count": 450,
   "metadata": {},
   "outputs": [],
   "source": [
    "data_review=df_reviews_desanidada"
   ]
  },
  {
   "cell_type": "markdown",
   "metadata": {},
   "source": [
    "Eliminamos las siguientes columnas debido a que tiene demaciados valores vacios"
   ]
  },
  {
   "cell_type": "code",
   "execution_count": 374,
   "metadata": {},
   "outputs": [
    {
     "name": "stdout",
     "output_type": "stream",
     "text": [
      "el numero de filas vacias en la columna funny es: 51125\n",
      "el numero de filas vacias en la columna last_edited es: 53135\n"
     ]
    }
   ],
   "source": [
    "### eliminamos esta dos columnas \n",
    "###\n",
    "\n",
    "print(\"el numero de filas vacias en la columna funny es:\",len(data_review[data_review['funny']=='']))\n",
    "print(\"el numero de filas vacias en la columna last_edited es:\",len(data_review[data_review['last_edited']=='']))\n"
   ]
  },
  {
   "cell_type": "code",
   "execution_count": 375,
   "metadata": {},
   "outputs": [],
   "source": [
    "data_review.drop(columns=['funny','last_edited'], inplace=True)"
   ]
  },
  {
   "cell_type": "markdown",
   "metadata": {},
   "source": [
    "### Tambien vamos a eliminar las siguientes columnas"
   ]
  },
  {
   "cell_type": "markdown",
   "metadata": {},
   "source": [
    "- helpful:  no aporta mucha informacion relevante\n",
    "- recommend: esta columna la convertimos a dummy (recommend_False, recommend_True)\n",
    "- review y review_normalizado por que estan remplazadas por la columna sentiment_analysis"
   ]
  },
  {
   "cell_type": "code",
   "execution_count": 381,
   "metadata": {},
   "outputs": [],
   "source": [
    "data_review.drop(columns=['helpful','recommend','review','review_normalizado'], inplace=True)"
   ]
  },
  {
   "cell_type": "markdown",
   "metadata": {},
   "source": [
    "#### Guardamos la variable df_items_desanidada en la variable data_items por si cometemos algun error no tengamos que volver a cargar la data"
   ]
  },
  {
   "cell_type": "code",
   "execution_count": 410,
   "metadata": {},
   "outputs": [],
   "source": [
    "data_items=df_items_desanidada"
   ]
  },
  {
   "cell_type": "markdown",
   "metadata": {},
   "source": [
    "#### Guardamos la variable df_games en la variable data_games por si cometemos un error no tengamos que volver a cargar la data"
   ]
  },
  {
   "cell_type": "code",
   "execution_count": 498,
   "metadata": {},
   "outputs": [],
   "source": [
    "data_games=df_games"
   ]
  },
  {
   "cell_type": "markdown",
   "metadata": {},
   "source": [
    "Eliminamos las filas que tienes mas de 5 valores faltantes"
   ]
  },
  {
   "cell_type": "code",
   "execution_count": 499,
   "metadata": {},
   "outputs": [],
   "source": [
    "data_games.dropna(inplace=True, thresh=5)"
   ]
  },
  {
   "cell_type": "code",
   "execution_count": 466,
   "metadata": {},
   "outputs": [
    {
     "data": {
      "text/html": [
       "<div>\n",
       "<style scoped>\n",
       "    .dataframe tbody tr th:only-of-type {\n",
       "        vertical-align: middle;\n",
       "    }\n",
       "\n",
       "    .dataframe tbody tr th {\n",
       "        vertical-align: top;\n",
       "    }\n",
       "\n",
       "    .dataframe thead th {\n",
       "        text-align: right;\n",
       "    }\n",
       "</style>\n",
       "<table border=\"1\" class=\"dataframe\">\n",
       "  <thead>\n",
       "    <tr style=\"text-align: right;\">\n",
       "      <th></th>\n",
       "      <th>publisher</th>\n",
       "      <th>genres</th>\n",
       "      <th>app_name</th>\n",
       "      <th>title</th>\n",
       "      <th>url</th>\n",
       "      <th>release_date</th>\n",
       "      <th>tags</th>\n",
       "      <th>reviews_url</th>\n",
       "      <th>specs</th>\n",
       "      <th>price</th>\n",
       "      <th>early_access</th>\n",
       "      <th>id</th>\n",
       "      <th>developer</th>\n",
       "    </tr>\n",
       "  </thead>\n",
       "  <tbody>\n",
       "    <tr>\n",
       "      <th>88310</th>\n",
       "      <td>Kotoshiro</td>\n",
       "      <td>[Action, Casual, Indie, Simulation, Strategy]</td>\n",
       "      <td>Lost Summoner Kitty</td>\n",
       "      <td>Lost Summoner Kitty</td>\n",
       "      <td>http://store.steampowered.com/app/761140/Lost_...</td>\n",
       "      <td>2018-01-04</td>\n",
       "      <td>[Strategy, Action, Indie, Casual, Simulation]</td>\n",
       "      <td>http://steamcommunity.com/app/761140/reviews/?...</td>\n",
       "      <td>[Single-player]</td>\n",
       "      <td>4.99</td>\n",
       "      <td>False</td>\n",
       "      <td>761140</td>\n",
       "      <td>Kotoshiro</td>\n",
       "    </tr>\n",
       "    <tr>\n",
       "      <th>88311</th>\n",
       "      <td>Making Fun, Inc.</td>\n",
       "      <td>[Free to Play, Indie, RPG, Strategy]</td>\n",
       "      <td>Ironbound</td>\n",
       "      <td>Ironbound</td>\n",
       "      <td>http://store.steampowered.com/app/643980/Ironb...</td>\n",
       "      <td>2018-01-04</td>\n",
       "      <td>[Free to Play, Strategy, Indie, RPG, Card Game...</td>\n",
       "      <td>http://steamcommunity.com/app/643980/reviews/?...</td>\n",
       "      <td>[Single-player, Multi-player, Online Multi-Pla...</td>\n",
       "      <td>Free To Play</td>\n",
       "      <td>False</td>\n",
       "      <td>643980</td>\n",
       "      <td>Secret Level SRL</td>\n",
       "    </tr>\n",
       "  </tbody>\n",
       "</table>\n",
       "</div>"
      ],
      "text/plain": [
       "              publisher                                         genres  \\\n",
       "88310         Kotoshiro  [Action, Casual, Indie, Simulation, Strategy]   \n",
       "88311  Making Fun, Inc.           [Free to Play, Indie, RPG, Strategy]   \n",
       "\n",
       "                  app_name                title  \\\n",
       "88310  Lost Summoner Kitty  Lost Summoner Kitty   \n",
       "88311            Ironbound            Ironbound   \n",
       "\n",
       "                                                     url release_date  \\\n",
       "88310  http://store.steampowered.com/app/761140/Lost_...   2018-01-04   \n",
       "88311  http://store.steampowered.com/app/643980/Ironb...   2018-01-04   \n",
       "\n",
       "                                                    tags  \\\n",
       "88310      [Strategy, Action, Indie, Casual, Simulation]   \n",
       "88311  [Free to Play, Strategy, Indie, RPG, Card Game...   \n",
       "\n",
       "                                             reviews_url  \\\n",
       "88310  http://steamcommunity.com/app/761140/reviews/?...   \n",
       "88311  http://steamcommunity.com/app/643980/reviews/?...   \n",
       "\n",
       "                                                   specs         price  \\\n",
       "88310                                    [Single-player]          4.99   \n",
       "88311  [Single-player, Multi-player, Online Multi-Pla...  Free To Play   \n",
       "\n",
       "      early_access      id         developer  \n",
       "88310        False  761140         Kotoshiro  \n",
       "88311        False  643980  Secret Level SRL  "
      ]
     },
     "execution_count": 466,
     "metadata": {},
     "output_type": "execute_result"
    }
   ],
   "source": [
    "data_games.head(2)"
   ]
  },
  {
   "cell_type": "code",
   "execution_count": null,
   "metadata": {},
   "outputs": [],
   "source": [
    "###### REALIZAMOS La SIGUIENTE FUNCION\n",
    "######  \n",
    "######   def userdata( User_id : str ): Debe devolver cantidad de dinero gastado por el usuario, \n",
    "######                                  el porcentaje de recomendación en base a reviews.recommend y cantidad de items."
   ]
  },
  {
   "cell_type": "code",
   "execution_count": 501,
   "metadata": {},
   "outputs": [
    {
     "data": {
      "text/plain": [
       "array([4.99, 'Free To Play', 'Free to Play', 0.99, 2.99, 3.99, 9.99,\n",
       "       18.99, 29.99, nan, 'Free', 10.99, 1.59, 14.99, 1.99, 59.99, 8.99,\n",
       "       6.99, 7.99, 39.99, 19.99, 7.49, 12.99, 5.99, 2.49, 15.99, 1.25,\n",
       "       24.99, 17.99, 61.99, 3.49, 11.99, 13.99, 'Free Demo',\n",
       "       'Play for Free!', 34.99, 74.76, 1.49, 32.99, 99.99, 14.95, 69.99,\n",
       "       16.99, 79.99, 49.99, 5.0, 44.99, 13.98, 29.96, 119.99, 109.99,\n",
       "       149.99, 771.71, 'Install Now', 21.99, 89.99,\n",
       "       'Play WARMACHINE: Tactics Demo', 0.98, 139.92, 4.29, 64.99,\n",
       "       'Free Mod', 54.99, 74.99, 'Install Theme', 0.89, 'Third-party',\n",
       "       0.5, 'Play Now', 299.99, 1.29, 3.0, 15.0, 5.49, 23.99, 49.0, 20.99,\n",
       "       10.93, 1.39, 'Free HITMAN™ Holiday Pack', 36.99, 4.49, 2.0, 4.0,\n",
       "       9.0, 234.99, 1.95, 1.5, 199.0, 189.0, 6.66, 27.99, 10.49, 129.99,\n",
       "       179.0, 26.99, 399.99, 31.99, 399.0, 20.0, 40.0, 3.33, 199.99,\n",
       "       22.99, 320.0, 38.85, 71.7, 59.95, 995.0, 27.49, 3.39, 6.0, 19.95,\n",
       "       499.99, 16.06, 4.68, 131.4, 44.98, 202.76, 1.0, 2.3, 0.95, 172.24,\n",
       "       249.99, 2.97, 10.96, 10.0, 30.0, 2.66, 6.48, 19.29, 11.15, 18.9,\n",
       "       2.89, 'Play the Demo', 99.0, 87.94, 599.0, 8.98, 9.69, 0.49, 9.98,\n",
       "       9.95, 7.0, 'Starting at $499.00', 'Starting at $449.00', 12.89,\n",
       "       6.49, 1.87, 42.99, 41.99, 289.99, 'Free to Try', 23.96, 5.65, 12.0,\n",
       "       13.37, 189.96, 124.99, 'Free Movie', 19.98, 160.91, 'Free to Use'],\n",
       "      dtype=object)"
      ]
     },
     "execution_count": 501,
     "metadata": {},
     "output_type": "execute_result"
    }
   ],
   "source": [
    "## observamos la lista con valores unicos y mirams que hay precio que no tiene valor en numeros\n",
    "data_games['price'].unique()"
   ]
  },
  {
   "cell_type": "code",
   "execution_count": null,
   "metadata": {},
   "outputs": [],
   "source": [
    "#no fecha\n",
    "#no genero "
   ]
  },
  {
   "cell_type": "code",
   "execution_count": 510,
   "metadata": {},
   "outputs": [],
   "source": [
    "## creamos una lista de precios a remplazar\n",
    "remplazos_precio={'Free To Play': 0,\n",
    "                  'Free to Play':0,\n",
    "                   'nan':0,\n",
    "                  'Free':0,\n",
    "                  'Free Demo':0,\n",
    "                  'Play for Free!':0,\n",
    "                  'Install Now':0,\n",
    "                  'Play WARMACHINE: Tactics Demo':0,\n",
    "                  'Free Mod':0,\n",
    "                  'Install Theme':0,\n",
    "                  'Third-party':0,\n",
    "                  'Play Now':0,\n",
    "                  'Free HITMAN™ Holiday Pack':0,\n",
    "                  'Play the Demo':0,\n",
    "                  'Starting at $499.00':499,\n",
    "                  'Starting at $449.00':499,\n",
    "                  'Free to Try':0,\n",
    "                  'Free Movie':0,\n",
    "                  'Free to Use':0\n",
    "                                                 \n",
    "}"
   ]
  },
  {
   "cell_type": "code",
   "execution_count": 508,
   "metadata": {},
   "outputs": [],
   "source": [
    "## realizamos el premplazo de precios\n",
    "data_games['price']=data_games['price'].replace(remplazos_precio)"
   ]
  },
  {
   "cell_type": "code",
   "execution_count": null,
   "metadata": {},
   "outputs": [],
   "source": [
    "lista_juego=data_items[data_items['user_id']=='76561197970982479']['item_id'].tolist()\n",
    "lista_juego"
   ]
  },
  {
   "cell_type": "code",
   "execution_count": 598,
   "metadata": {},
   "outputs": [
    {
     "data": {
      "text/plain": [
       "277"
      ]
     },
     "execution_count": 598,
     "metadata": {},
     "output_type": "execute_result"
    }
   ],
   "source": [
    "data_items[data_items['user_id']=='76561197970982479']['item_id'].count()"
   ]
  },
  {
   "cell_type": "code",
   "execution_count": 567,
   "metadata": {},
   "outputs": [
    {
     "name": "stdout",
     "output_type": "stream",
     "text": [
      "[[9.99], [4.99], [4.99], [4.99], [4.99], [4.99], [9.99], [4.99], [9.99], [19.99], [9.99], [19.99], [19.99], [], [9.99], [9.99], [6.99], [19.99], [19.99], [9.99], [4.99], [nan], [9.99], [7.99], [9.99], [7.99], [], [], [4.99], [19.99], [19.99], [9.99], [9.99], [9.99], [2.99], [2.99], [19.99], [], [9.99], [19.99], [19.99], [19.99], [19.99], [19.99], [9.99], [14.99], [19.99], [0.0], [4.99], [4.99], [4.99], [], [14.99], [9.99], [], [19.99], [9.99], [9.99], [9.99], [19.99], [9.99], [], [], [19.99], [], [19.99], [14.99], [9.99], [19.99], [], [19.99], [9.99], [6.99], [], [19.99], [19.99], [19.99], [6.99], [19.99], [9.99], [19.99], [19.99], [], [14.99], [9.99], [], [], [], [], [], [54.99], [], [], [], [], [19.99], [], [19.99], [], [29.99], [4.99], [4.99], [19.99], [], [29.99], [14.99], [9.99], [9.99], [9.99], [14.99], [9.99], [39.99], [], [4.99], [14.99], [9.99], [9.99], [], [9.99], [19.99], [0.0], [14.99], [2.99], [4.99], [9.99], [], [4.99], [], [19.99], [9.99], [9.99], [], [9.99], [9.99], [9.99], [4.99], [4.99], [9.99], [9.99], [19.99], [9.99], [24.99], [19.99], [], [], [9.99], [19.99], [19.99], [19.99], [19.99], [19.99], [19.99], [], [], [1.99], [19.99], [], [], [14.99], [14.99], [], [4.99], [14.99], [9.99], [], [9.99], [9.99], [0.0], [39.99], [], [19.99], [24.99], [9.99], [29.99], [0.0], [4.99], [9.99], [], [14.99], [19.99], [19.99], [9.99], [19.99], [9.99], [4.99], [29.99], [29.99], [19.99], [19.99], [19.99], [0.0], [0.0], [0.0], [0.0], [19.99], [14.99], [29.99], [], [], [14.99], [9.99], [14.99], [19.99], [14.99], [11.99], [14.99], [9.99], [9.99], [14.99], [4.99], [14.99], [39.99], [19.99], [], [24.99], [14.99], [14.99], [14.99], [9.99], [4.99], [9.99], [19.99], [19.99], [29.99], [19.99], [24.99], [14.99], [14.99], [9.99], [24.99], [nan], [0.49], [11.99], [39.99], [39.99], [19.99], [19.99], [9.99], [9.99], [0.0], [], [14.99], [39.99], [19.99], [19.99], [0.98], [14.99], [19.99], [], [0.99], [14.99], [14.99], [1.99], [19.99], [9.99], [19.99], [0.0], [9.99], [39.99], [0.0], [7.99], [29.99], [29.99], [], [29.99], [29.99], [9.99], [14.99], [59.99], [4.99], [14.99], [19.99], [29.99], [59.99], [1.99], [29.99], [0.0]]\n"
     ]
    }
   ],
   "source": [
    "### juanaaaaaa\n",
    "lista_precio=[]\n",
    "for i in lista_juego:\n",
    "\n",
    "    lista_precio.append(data_games[data_games['id']==i][\"price\"].tolist())\n",
    "    \n",
    "print(lista_precio)    "
   ]
  },
  {
   "cell_type": "code",
   "execution_count": 593,
   "metadata": {},
   "outputs": [
    {
     "name": "stdout",
     "output_type": "stream",
     "text": [
      "La cantidad de dinero gastado por es usuario es de: 3424.3099999999854\n",
      "El porcentaje de recomendacion es: 1.083032490974729\n"
     ]
    }
   ],
   "source": [
    "lista_juego=data_items[data_items['user_id']=='76561197970982479']['item_id'].tolist()\n",
    "\n",
    "import math  # Importa el módulo math para verificar si un valor es nulo\n",
    "lista_precio=[]\n",
    "\n",
    "for i in lista_juego:\n",
    "\n",
    "    lista_precio.append(data_games[data_games['id']==i][\"price\"].tolist())\n",
    "\n",
    "suma = 0  # contador de suma\n",
    "\n",
    "for i in lista_juego:\n",
    "    prices = data_games[data_games['id'] == i][\"price\"].tolist()\n",
    "    \n",
    "    # Verifica si la lista de precios no está vacía\n",
    "    if prices:\n",
    "        # Filtra los valores no numéricos y nan y luego suma los valores\n",
    "        validar_prices = [p for p in prices if isinstance(p, (int, float)) and not math.isnan(p)]\n",
    "        suma += sum(validar_prices)  # Suma los valores válidos de la lista de precios\n",
    "\n",
    "print('La cantidad de dinero gastado por es usuario es de:',suma)\n",
    "\n",
    "\n",
    "cantidad_items=data_items[data_items['user_id']=='76561197970982479']['item_id'].count()\n",
    "cantidad_review=data_review[data_review['user_id']=='76561197970982479']['sentiment_analysis'].count()\n",
    "print('El porcentaje de recomendacion es:', (cantidad_review/cantidad_items)*100)\n"
   ]
  },
  {
   "cell_type": "code",
   "execution_count": null,
   "metadata": {},
   "outputs": [],
   "source": [
    "#data_games\n",
    "#data_items\n",
    "#data_review"
   ]
  },
  {
   "cell_type": "code",
   "execution_count": 601,
   "metadata": {},
   "outputs": [
    {
     "data": {
      "text/html": [
       "<div>\n",
       "<style scoped>\n",
       "    .dataframe tbody tr th:only-of-type {\n",
       "        vertical-align: middle;\n",
       "    }\n",
       "\n",
       "    .dataframe tbody tr th {\n",
       "        vertical-align: top;\n",
       "    }\n",
       "\n",
       "    .dataframe thead th {\n",
       "        text-align: right;\n",
       "    }\n",
       "</style>\n",
       "<table border=\"1\" class=\"dataframe\">\n",
       "  <thead>\n",
       "    <tr style=\"text-align: right;\">\n",
       "      <th></th>\n",
       "      <th>user_id</th>\n",
       "      <th>user_url</th>\n",
       "      <th>posted</th>\n",
       "      <th>item_id</th>\n",
       "      <th>recommend_False</th>\n",
       "      <th>recommend_True</th>\n",
       "      <th>sentiment_analysis</th>\n",
       "    </tr>\n",
       "  </thead>\n",
       "  <tbody>\n",
       "    <tr>\n",
       "      <th>0</th>\n",
       "      <td>76561197970982479</td>\n",
       "      <td>http://steamcommunity.com/profiles/76561197970...</td>\n",
       "      <td>Posted November 5, 2011.</td>\n",
       "      <td>1250</td>\n",
       "      <td>0</td>\n",
       "      <td>1</td>\n",
       "      <td>2.0</td>\n",
       "    </tr>\n",
       "    <tr>\n",
       "      <th>1</th>\n",
       "      <td>76561197970982479</td>\n",
       "      <td>http://steamcommunity.com/profiles/76561197970...</td>\n",
       "      <td>Posted July 15, 2011.</td>\n",
       "      <td>22200</td>\n",
       "      <td>0</td>\n",
       "      <td>1</td>\n",
       "      <td>2.0</td>\n",
       "    </tr>\n",
       "  </tbody>\n",
       "</table>\n",
       "</div>"
      ],
      "text/plain": [
       "             user_id                                           user_url  \\\n",
       "0  76561197970982479  http://steamcommunity.com/profiles/76561197970...   \n",
       "1  76561197970982479  http://steamcommunity.com/profiles/76561197970...   \n",
       "\n",
       "                     posted item_id  recommend_False  recommend_True  \\\n",
       "0  Posted November 5, 2011.    1250                0               1   \n",
       "1     Posted July 15, 2011.   22200                0               1   \n",
       "\n",
       "   sentiment_analysis  \n",
       "0                 2.0  \n",
       "1                 2.0  "
      ]
     },
     "execution_count": 601,
     "metadata": {},
     "output_type": "execute_result"
    }
   ],
   "source": [
    "data_review.head(2)"
   ]
  },
  {
   "cell_type": "code",
   "execution_count": 605,
   "metadata": {},
   "outputs": [
    {
     "data": {
      "text/plain": [
       "1906"
      ]
     },
     "execution_count": 605,
     "metadata": {},
     "output_type": "execute_result"
    }
   ],
   "source": [
    "len(data_review['posted'].unique())"
   ]
  },
  {
   "cell_type": "code",
   "execution_count": 600,
   "metadata": {},
   "outputs": [
    {
     "data": {
      "text/html": [
       "<div>\n",
       "<style scoped>\n",
       "    .dataframe tbody tr th:only-of-type {\n",
       "        vertical-align: middle;\n",
       "    }\n",
       "\n",
       "    .dataframe tbody tr th {\n",
       "        vertical-align: top;\n",
       "    }\n",
       "\n",
       "    .dataframe thead th {\n",
       "        text-align: right;\n",
       "    }\n",
       "</style>\n",
       "<table border=\"1\" class=\"dataframe\">\n",
       "  <thead>\n",
       "    <tr style=\"text-align: right;\">\n",
       "      <th></th>\n",
       "      <th>publisher</th>\n",
       "      <th>genres</th>\n",
       "      <th>app_name</th>\n",
       "      <th>title</th>\n",
       "      <th>url</th>\n",
       "      <th>release_date</th>\n",
       "      <th>tags</th>\n",
       "      <th>reviews_url</th>\n",
       "      <th>specs</th>\n",
       "      <th>price</th>\n",
       "      <th>early_access</th>\n",
       "      <th>id</th>\n",
       "      <th>developer</th>\n",
       "    </tr>\n",
       "  </thead>\n",
       "  <tbody>\n",
       "    <tr>\n",
       "      <th>88310</th>\n",
       "      <td>Kotoshiro</td>\n",
       "      <td>[Action, Casual, Indie, Simulation, Strategy]</td>\n",
       "      <td>Lost Summoner Kitty</td>\n",
       "      <td>Lost Summoner Kitty</td>\n",
       "      <td>http://store.steampowered.com/app/761140/Lost_...</td>\n",
       "      <td>2018-01-04</td>\n",
       "      <td>[Strategy, Action, Indie, Casual, Simulation]</td>\n",
       "      <td>http://steamcommunity.com/app/761140/reviews/?...</td>\n",
       "      <td>[Single-player]</td>\n",
       "      <td>4.99</td>\n",
       "      <td>False</td>\n",
       "      <td>761140</td>\n",
       "      <td>Kotoshiro</td>\n",
       "    </tr>\n",
       "    <tr>\n",
       "      <th>88311</th>\n",
       "      <td>Making Fun, Inc.</td>\n",
       "      <td>[Free to Play, Indie, RPG, Strategy]</td>\n",
       "      <td>Ironbound</td>\n",
       "      <td>Ironbound</td>\n",
       "      <td>http://store.steampowered.com/app/643980/Ironb...</td>\n",
       "      <td>2018-01-04</td>\n",
       "      <td>[Free to Play, Strategy, Indie, RPG, Card Game...</td>\n",
       "      <td>http://steamcommunity.com/app/643980/reviews/?...</td>\n",
       "      <td>[Single-player, Multi-player, Online Multi-Pla...</td>\n",
       "      <td>0.00</td>\n",
       "      <td>False</td>\n",
       "      <td>643980</td>\n",
       "      <td>Secret Level SRL</td>\n",
       "    </tr>\n",
       "  </tbody>\n",
       "</table>\n",
       "</div>"
      ],
      "text/plain": [
       "              publisher                                         genres  \\\n",
       "88310         Kotoshiro  [Action, Casual, Indie, Simulation, Strategy]   \n",
       "88311  Making Fun, Inc.           [Free to Play, Indie, RPG, Strategy]   \n",
       "\n",
       "                  app_name                title  \\\n",
       "88310  Lost Summoner Kitty  Lost Summoner Kitty   \n",
       "88311            Ironbound            Ironbound   \n",
       "\n",
       "                                                     url release_date  \\\n",
       "88310  http://store.steampowered.com/app/761140/Lost_...   2018-01-04   \n",
       "88311  http://store.steampowered.com/app/643980/Ironb...   2018-01-04   \n",
       "\n",
       "                                                    tags  \\\n",
       "88310      [Strategy, Action, Indie, Casual, Simulation]   \n",
       "88311  [Free to Play, Strategy, Indie, RPG, Card Game...   \n",
       "\n",
       "                                             reviews_url  \\\n",
       "88310  http://steamcommunity.com/app/761140/reviews/?...   \n",
       "88311  http://steamcommunity.com/app/643980/reviews/?...   \n",
       "\n",
       "                                                   specs  price early_access  \\\n",
       "88310                                    [Single-player]   4.99        False   \n",
       "88311  [Single-player, Multi-player, Online Multi-Pla...   0.00        False   \n",
       "\n",
       "           id         developer  \n",
       "88310  761140         Kotoshiro  \n",
       "88311  643980  Secret Level SRL  "
      ]
     },
     "execution_count": 600,
     "metadata": {},
     "output_type": "execute_result"
    }
   ],
   "source": [
    "data_games.head(2)"
   ]
  },
  {
   "cell_type": "markdown",
   "metadata": {},
   "source": [
    "## Exportamos nuestros tres dataFrames para realizar las funciones"
   ]
  },
  {
   "cell_type": "code",
   "execution_count": 606,
   "metadata": {},
   "outputs": [],
   "source": [
    "## exportamos los dataFrames\n",
    "data_games.to_csv('games.csv', index=False)\n",
    "data_items.to_csv('items.csv', index=False)\n",
    "data_review.to_csv('reviews.csv', index=False)"
   ]
  }
 ],
 "metadata": {
  "kernelspec": {
   "display_name": "Python 3",
   "language": "python",
   "name": "python3"
  },
  "language_info": {
   "codemirror_mode": {
    "name": "ipython",
    "version": 3
   },
   "file_extension": ".py",
   "mimetype": "text/x-python",
   "name": "python",
   "nbconvert_exporter": "python",
   "pygments_lexer": "ipython3",
   "version": "3.11.3"
  },
  "orig_nbformat": 4
 },
 "nbformat": 4,
 "nbformat_minor": 2
}
