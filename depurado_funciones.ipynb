{
 "cells": [
  {
   "cell_type": "markdown",
   "metadata": {},
   "source": [
    "##### Importamos las libreria con que vamos a eleaborar la funciones"
   ]
  },
  {
   "cell_type": "code",
   "execution_count": 2,
   "metadata": {},
   "outputs": [],
   "source": [
    "import numpy as np\n",
    "import pandas as pd\n",
    "import math\n",
    "import ast"
   ]
  },
  {
   "cell_type": "markdown",
   "metadata": {},
   "source": [
    "##### Importamos nuestra data"
   ]
  },
  {
   "cell_type": "code",
   "execution_count": 48,
   "metadata": {},
   "outputs": [],
   "source": [
    "data_games=pd.read_csv('games.csv')\n",
    "data_review=pd.read_csv('reviews.csv')\n",
    "data_items=pd.read_csv('items.csv')"
   ]
  },
  {
   "cell_type": "markdown",
   "metadata": {},
   "source": [
    "## Función numero uno"
   ]
  },
  {
   "cell_type": "markdown",
   "metadata": {},
   "source": [
    "Vamos a crear una funcion que dado el id de un usuario nos devuelva la cantidad de dinero gastodo por este y el porcentaje de recomendacion"
   ]
  },
  {
   "cell_type": "markdown",
   "metadata": {},
   "source": [
    "Miramos los valores unicos de la columna precio y se observa que hay valores de precio que no estan en numero"
   ]
  },
  {
   "cell_type": "code",
   "execution_count": null,
   "metadata": {},
   "outputs": [],
   "source": [
    "data_games['price'].unique()"
   ]
  },
  {
   "cell_type": "markdown",
   "metadata": {},
   "source": [
    "Del paso anterior extreaelos la valores que vamos a remplazar con numeros y creamos un diccionario de precios a remplazar"
   ]
  },
  {
   "cell_type": "code",
   "execution_count": null,
   "metadata": {},
   "outputs": [],
   "source": [
    "remplazos_precio={'Free To Play': 0,\n",
    "                  'Free to Play':0,\n",
    "                   'nan':0,\n",
    "                  'Free':0,\n",
    "                  'Free Demo':0,\n",
    "                  'Play for Free!':0,\n",
    "                  'Install Now':0,\n",
    "                  'Play WARMACHINE: Tactics Demo':0,\n",
    "                  'Free Mod':0,\n",
    "                  'Install Theme':0,\n",
    "                  'Third-party':0,\n",
    "                  'Play Now':0,\n",
    "                  'Free HITMAN™ Holiday Pack':0,\n",
    "                  'Play the Demo':0,\n",
    "                  'Starting at $499.00':499,\n",
    "                  'Starting at $449.00':499,\n",
    "                  'Free to Try':0,\n",
    "                  'Free Movie':0,\n",
    "                  'Free to Use':0\n",
    "                                                 \n",
    "}"
   ]
  },
  {
   "cell_type": "markdown",
   "metadata": {},
   "source": [
    "Realizamos el remplazo de los precio por los valores que se encuentra en el diccionario remplazos_precios"
   ]
  },
  {
   "cell_type": "code",
   "execution_count": null,
   "metadata": {},
   "outputs": [],
   "source": [
    "data_games['price']=data_games['price'].replace(remplazos_precio)"
   ]
  },
  {
   "cell_type": "markdown",
   "metadata": {},
   "source": [
    "Exportamos los cambios realizados al archvio data_games con el fin de no tener que realizar los pasos anteriores a la hora de correr nuestras funciones"
   ]
  },
  {
   "cell_type": "markdown",
   "metadata": {},
   "source": [
    "data_games.to_csv('games.csv', index=False)"
   ]
  },
  {
   "cell_type": "markdown",
   "metadata": {},
   "source": [
    "### Codigo de la funcion numero uno"
   ]
  },
  {
   "cell_type": "code",
   "execution_count": 87,
   "metadata": {},
   "outputs": [
    {
     "name": "stdout",
     "output_type": "stream",
     "text": [
      "La cantidad de dinero gastado por es usuario es de: 3419.3199999999856 y el procentajes de recomendacion es: 1.3043478260869565\n"
     ]
    }
   ],
   "source": [
    "# Ejemplo función\n",
    "userdata('76561197970982479')"
   ]
  },
  {
   "cell_type": "code",
   "execution_count": 81,
   "metadata": {},
   "outputs": [],
   "source": [
    "def userdata( User_id : str ):\n",
    "    \n",
    "    # creamos una maskara con la columna user_id y la guardamos en una lista (tolist())\n",
    "    lista_juego=data_items[data_items['user_id']==User_id]['item_id'].tolist()\n",
    "    \n",
    "    # creamos una lista vacia\n",
    "    lista_precio=[]\n",
    "\n",
    "    # agregamos a nuestra lista aquellos precios que coinciden con id\n",
    "    for i in lista_juego:\n",
    "\n",
    "        lista_precio.append(data_games[data_games['id']==i][\"price\"].tolist())\n",
    "        \n",
    "    \n",
    "    # contador de suma\n",
    "    suma = 0  \n",
    "\n",
    "    # este ciclo se encarga de sumar los valores de la lista y descartando aquellos valores nulos o vacios\n",
    "    for i in lista_juego:\n",
    "        prices = data_games[data_games['id'] == i][\"price\"].tolist()\n",
    "        \n",
    "        # Verifica si la lista de precios no está vacía\n",
    "        if prices:\n",
    "            # Filtra los valores no numéricos y nan y luego suma los valores\n",
    "            validar_prices = [p for p in prices if isinstance(p, (int, float)) and not math.isnan(p)]\n",
    "            # Suma los valores válidos de la lista de precios\n",
    "            suma += sum(validar_prices)  \n",
    "            \n",
    "            \n",
    "    cantidad_items=data_items[data_items['user_id']==User_id]['item_id'].count()\n",
    "    cantidad_review=data_review[data_review['user_id']==User_id]['sentiment_analysis'].count()      \n",
    "    recomendacion= (cantidad_review/cantidad_items)*100\n",
    "\n",
    "    return(print('La cantidad de dinero gastado por es usuario es de:',suma, 'y el procentajes de recomendacion es:', recomendacion))\n"
   ]
  },
  {
   "cell_type": "markdown",
   "metadata": {},
   "source": [
    "## Funcion numero dos"
   ]
  },
  {
   "cell_type": "markdown",
   "metadata": {},
   "source": [
    "Esta funcion debe devolver la cantidad de usuariso que reviews realizaron reviews entre dos fechas dadas "
   ]
  },
  {
   "cell_type": "markdown",
   "metadata": {},
   "source": [
    "Para realizar esta funcions primero debemos de realizar un proceso de ETL para que estas puedan funcionar correctamente.\n",
    "- Vamos a trabajar con la columna posted la cual contiene las fechas de las reviews. Pero antes debemos elimniar la palabra posted de nuestra culumna para quedarnos solo con las fechas"
   ]
  },
  {
   "cell_type": "code",
   "execution_count": 15,
   "metadata": {},
   "outputs": [],
   "source": [
    "data_review['posted']=data_review['posted'].str.replace('Posted','')"
   ]
  },
  {
   "cell_type": "code",
   "execution_count": 16,
   "metadata": {},
   "outputs": [
    {
     "data": {
      "text/html": [
       "<div>\n",
       "<style scoped>\n",
       "    .dataframe tbody tr th:only-of-type {\n",
       "        vertical-align: middle;\n",
       "    }\n",
       "\n",
       "    .dataframe tbody tr th {\n",
       "        vertical-align: top;\n",
       "    }\n",
       "\n",
       "    .dataframe thead th {\n",
       "        text-align: right;\n",
       "    }\n",
       "</style>\n",
       "<table border=\"1\" class=\"dataframe\">\n",
       "  <thead>\n",
       "    <tr style=\"text-align: right;\">\n",
       "      <th></th>\n",
       "      <th>user_id</th>\n",
       "      <th>user_url</th>\n",
       "      <th>posted</th>\n",
       "      <th>item_id</th>\n",
       "      <th>recommend_False</th>\n",
       "      <th>recommend_True</th>\n",
       "      <th>sentiment_analysis</th>\n",
       "    </tr>\n",
       "  </thead>\n",
       "  <tbody>\n",
       "    <tr>\n",
       "      <th>0</th>\n",
       "      <td>76561197970982479</td>\n",
       "      <td>http://steamcommunity.com/profiles/76561197970...</td>\n",
       "      <td>November 5, 2011.</td>\n",
       "      <td>1250</td>\n",
       "      <td>0</td>\n",
       "      <td>1</td>\n",
       "      <td>2.0</td>\n",
       "    </tr>\n",
       "    <tr>\n",
       "      <th>1</th>\n",
       "      <td>76561197970982479</td>\n",
       "      <td>http://steamcommunity.com/profiles/76561197970...</td>\n",
       "      <td>July 15, 2011.</td>\n",
       "      <td>22200</td>\n",
       "      <td>0</td>\n",
       "      <td>1</td>\n",
       "      <td>2.0</td>\n",
       "    </tr>\n",
       "  </tbody>\n",
       "</table>\n",
       "</div>"
      ],
      "text/plain": [
       "             user_id                                           user_url  \\\n",
       "0  76561197970982479  http://steamcommunity.com/profiles/76561197970...   \n",
       "1  76561197970982479  http://steamcommunity.com/profiles/76561197970...   \n",
       "\n",
       "               posted  item_id  recommend_False  recommend_True  \\\n",
       "0   November 5, 2011.     1250                0               1   \n",
       "1      July 15, 2011.    22200                0               1   \n",
       "\n",
       "   sentiment_analysis  \n",
       "0                 2.0  \n",
       "1                 2.0  "
      ]
     },
     "execution_count": 16,
     "metadata": {},
     "output_type": "execute_result"
    }
   ],
   "source": [
    "data_review.head(2)"
   ]
  },
  {
   "cell_type": "markdown",
   "metadata": {},
   "source": [
    "Eliminamos los puntos al final de cada una de nuestras fechas"
   ]
  },
  {
   "cell_type": "code",
   "execution_count": 88,
   "metadata": {},
   "outputs": [
    {
     "ename": "AttributeError",
     "evalue": "Can only use .str accessor with string values!",
     "output_type": "error",
     "traceback": [
      "\u001b[1;31m---------------------------------------------------------------------------\u001b[0m",
      "\u001b[1;31mAttributeError\u001b[0m                            Traceback (most recent call last)",
      "Cell \u001b[1;32mIn[88], line 1\u001b[0m\n\u001b[1;32m----> 1\u001b[0m data_review[\u001b[39m'\u001b[39m\u001b[39mposted\u001b[39m\u001b[39m'\u001b[39m]\u001b[39m=\u001b[39mdata_review[\u001b[39m'\u001b[39;49m\u001b[39mposted\u001b[39;49m\u001b[39m'\u001b[39;49m]\u001b[39m.\u001b[39;49mstr\u001b[39m.\u001b[39mreplace(\u001b[39m'\u001b[39m\u001b[39m.\u001b[39m\u001b[39m'\u001b[39m,\u001b[39m'\u001b[39m\u001b[39m'\u001b[39m)\n",
      "File \u001b[1;32mc:\\Users\\PC\\AppData\\Local\\Programs\\Python\\Python311\\Lib\\site-packages\\pandas\\core\\generic.py:5989\u001b[0m, in \u001b[0;36mNDFrame.__getattr__\u001b[1;34m(self, name)\u001b[0m\n\u001b[0;32m   5982\u001b[0m \u001b[39mif\u001b[39;00m (\n\u001b[0;32m   5983\u001b[0m     name \u001b[39mnot\u001b[39;00m \u001b[39min\u001b[39;00m \u001b[39mself\u001b[39m\u001b[39m.\u001b[39m_internal_names_set\n\u001b[0;32m   5984\u001b[0m     \u001b[39mand\u001b[39;00m name \u001b[39mnot\u001b[39;00m \u001b[39min\u001b[39;00m \u001b[39mself\u001b[39m\u001b[39m.\u001b[39m_metadata\n\u001b[0;32m   5985\u001b[0m     \u001b[39mand\u001b[39;00m name \u001b[39mnot\u001b[39;00m \u001b[39min\u001b[39;00m \u001b[39mself\u001b[39m\u001b[39m.\u001b[39m_accessors\n\u001b[0;32m   5986\u001b[0m     \u001b[39mand\u001b[39;00m \u001b[39mself\u001b[39m\u001b[39m.\u001b[39m_info_axis\u001b[39m.\u001b[39m_can_hold_identifiers_and_holds_name(name)\n\u001b[0;32m   5987\u001b[0m ):\n\u001b[0;32m   5988\u001b[0m     \u001b[39mreturn\u001b[39;00m \u001b[39mself\u001b[39m[name]\n\u001b[1;32m-> 5989\u001b[0m \u001b[39mreturn\u001b[39;00m \u001b[39mobject\u001b[39;49m\u001b[39m.\u001b[39;49m\u001b[39m__getattribute__\u001b[39;49m(\u001b[39mself\u001b[39;49m, name)\n",
      "File \u001b[1;32mc:\\Users\\PC\\AppData\\Local\\Programs\\Python\\Python311\\Lib\\site-packages\\pandas\\core\\accessor.py:224\u001b[0m, in \u001b[0;36mCachedAccessor.__get__\u001b[1;34m(self, obj, cls)\u001b[0m\n\u001b[0;32m    221\u001b[0m \u001b[39mif\u001b[39;00m obj \u001b[39mis\u001b[39;00m \u001b[39mNone\u001b[39;00m:\n\u001b[0;32m    222\u001b[0m     \u001b[39m# we're accessing the attribute of the class, i.e., Dataset.geo\u001b[39;00m\n\u001b[0;32m    223\u001b[0m     \u001b[39mreturn\u001b[39;00m \u001b[39mself\u001b[39m\u001b[39m.\u001b[39m_accessor\n\u001b[1;32m--> 224\u001b[0m accessor_obj \u001b[39m=\u001b[39m \u001b[39mself\u001b[39;49m\u001b[39m.\u001b[39;49m_accessor(obj)\n\u001b[0;32m    225\u001b[0m \u001b[39m# Replace the property with the accessor object. Inspired by:\u001b[39;00m\n\u001b[0;32m    226\u001b[0m \u001b[39m# https://www.pydanny.com/cached-property.html\u001b[39;00m\n\u001b[0;32m    227\u001b[0m \u001b[39m# We need to use object.__setattr__ because we overwrite __setattr__ on\u001b[39;00m\n\u001b[0;32m    228\u001b[0m \u001b[39m# NDFrame\u001b[39;00m\n\u001b[0;32m    229\u001b[0m \u001b[39mobject\u001b[39m\u001b[39m.\u001b[39m\u001b[39m__setattr__\u001b[39m(obj, \u001b[39mself\u001b[39m\u001b[39m.\u001b[39m_name, accessor_obj)\n",
      "File \u001b[1;32mc:\\Users\\PC\\AppData\\Local\\Programs\\Python\\Python311\\Lib\\site-packages\\pandas\\core\\strings\\accessor.py:181\u001b[0m, in \u001b[0;36mStringMethods.__init__\u001b[1;34m(self, data)\u001b[0m\n\u001b[0;32m    178\u001b[0m \u001b[39mdef\u001b[39;00m \u001b[39m__init__\u001b[39m(\u001b[39mself\u001b[39m, data) \u001b[39m-\u001b[39m\u001b[39m>\u001b[39m \u001b[39mNone\u001b[39;00m:\n\u001b[0;32m    179\u001b[0m     \u001b[39mfrom\u001b[39;00m \u001b[39mpandas\u001b[39;00m\u001b[39m.\u001b[39;00m\u001b[39mcore\u001b[39;00m\u001b[39m.\u001b[39;00m\u001b[39marrays\u001b[39;00m\u001b[39m.\u001b[39;00m\u001b[39mstring_\u001b[39;00m \u001b[39mimport\u001b[39;00m StringDtype\n\u001b[1;32m--> 181\u001b[0m     \u001b[39mself\u001b[39m\u001b[39m.\u001b[39m_inferred_dtype \u001b[39m=\u001b[39m \u001b[39mself\u001b[39;49m\u001b[39m.\u001b[39;49m_validate(data)\n\u001b[0;32m    182\u001b[0m     \u001b[39mself\u001b[39m\u001b[39m.\u001b[39m_is_categorical \u001b[39m=\u001b[39m is_categorical_dtype(data\u001b[39m.\u001b[39mdtype)\n\u001b[0;32m    183\u001b[0m     \u001b[39mself\u001b[39m\u001b[39m.\u001b[39m_is_string \u001b[39m=\u001b[39m \u001b[39misinstance\u001b[39m(data\u001b[39m.\u001b[39mdtype, StringDtype)\n",
      "File \u001b[1;32mc:\\Users\\PC\\AppData\\Local\\Programs\\Python\\Python311\\Lib\\site-packages\\pandas\\core\\strings\\accessor.py:235\u001b[0m, in \u001b[0;36mStringMethods._validate\u001b[1;34m(data)\u001b[0m\n\u001b[0;32m    232\u001b[0m inferred_dtype \u001b[39m=\u001b[39m lib\u001b[39m.\u001b[39minfer_dtype(values, skipna\u001b[39m=\u001b[39m\u001b[39mTrue\u001b[39;00m)\n\u001b[0;32m    234\u001b[0m \u001b[39mif\u001b[39;00m inferred_dtype \u001b[39mnot\u001b[39;00m \u001b[39min\u001b[39;00m allowed_types:\n\u001b[1;32m--> 235\u001b[0m     \u001b[39mraise\u001b[39;00m \u001b[39mAttributeError\u001b[39;00m(\u001b[39m\"\u001b[39m\u001b[39mCan only use .str accessor with string values!\u001b[39m\u001b[39m\"\u001b[39m)\n\u001b[0;32m    236\u001b[0m \u001b[39mreturn\u001b[39;00m inferred_dtype\n",
      "\u001b[1;31mAttributeError\u001b[0m: Can only use .str accessor with string values!"
     ]
    }
   ],
   "source": [
    "data_review['posted']=data_review['posted'].str.replace('.','')"
   ]
  },
  {
   "cell_type": "markdown",
   "metadata": {},
   "source": [
    "Como tenemos en nuestra columna posted tenemos fechas que no tiene año. Entonces procedemos a dividir a esta columna en dos y esta divicios se va hacer por la coma. Debido a que el año se encuestra antes de la coma. como resultados tendremos dos culumnas nuevas una de año de nombre year y otras de mes de nombre month"
   ]
  },
  {
   "cell_type": "code",
   "execution_count": null,
   "metadata": {},
   "outputs": [],
   "source": [
    "data_review[['mont', 'year']]=data_review['posted'].str.split(',', expand=True)"
   ]
  },
  {
   "cell_type": "markdown",
   "metadata": {},
   "source": [
    "Eliminamos el punto que se encuentra en nuestras columna year (año)"
   ]
  },
  {
   "cell_type": "code",
   "execution_count": null,
   "metadata": {},
   "outputs": [],
   "source": [
    "data_review['year']=data_review['year'].str.replace('.','')"
   ]
  },
  {
   "cell_type": "markdown",
   "metadata": {},
   "source": [
    "Filtramos todos los valores en donde nuestra columna year no es nula. Este paso lo realiazamos con el fin de que en nuestra columna posted no queden las fechas que tienen los daots completos como lo son mes, dia y año"
   ]
  },
  {
   "cell_type": "code",
   "execution_count": null,
   "metadata": {},
   "outputs": [],
   "source": [
    "data_review=data_review[data_review['year'].notna()]"
   ]
  },
  {
   "cell_type": "markdown",
   "metadata": {},
   "source": [
    "Cambiamos el formato de fecha de nuestra columna posted con el fin de que quede en el formato YY--MM--DD"
   ]
  },
  {
   "cell_type": "code",
   "execution_count": null,
   "metadata": {},
   "outputs": [],
   "source": [
    "data_review['posted'] = pd.to_datetime(data_review['posted'], format='%B %d, %Y').dt.strftime('%Y-%m-%d')"
   ]
  },
  {
   "cell_type": "markdown",
   "metadata": {},
   "source": [
    "#### Exportamos los cambios anteriores a nuestro archivo cvs de reviews.csv"
   ]
  },
  {
   "cell_type": "markdown",
   "metadata": {},
   "source": [
    "Lo anterior lo hacemos con el fin de no tener quener que hacer ningun proceso de ETL para poder correr nuestras funciones"
   ]
  },
  {
   "cell_type": "code",
   "execution_count": 84,
   "metadata": {},
   "outputs": [],
   "source": [
    "data_review.to_csv('reviews.csv', index=False)"
   ]
  },
  {
   "cell_type": "markdown",
   "metadata": {},
   "source": [
    "## Codigo función numero dos"
   ]
  },
  {
   "cell_type": "code",
   "execution_count": 86,
   "metadata": {},
   "outputs": [
    {
     "name": "stdout",
     "output_type": "stream",
     "text": [
      "16605\n"
     ]
    }
   ],
   "source": [
    "# Ingresar la fechas en formato YYYY-MM-DD\n",
    "countreviews('2011-01-01', '2014-12-31' )"
   ]
  },
  {
   "cell_type": "code",
   "execution_count": 85,
   "metadata": {},
   "outputs": [],
   "source": [
    "def countreviews( fecha_inicio,  fecha_fin : str ):\n",
    "    ## nos aseguramos que le columna posted tenga el formato adecuado\n",
    "    data_review['posted'] = pd.to_datetime(data_review['posted'], format='%Y-%m-%d')\n",
    "\n",
    "    ## nos aseguramos que las fechas ingresadas  tenga el formato adecuado\n",
    "    fecha_inicio = pd.to_datetime(fecha_inicio)\n",
    "    fecha_fin = pd.to_datetime(fecha_fin)\n",
    "    return(print(len(data_review[(data_review['posted']>= fecha_inicio) & (data_review['posted']<=fecha_fin)]['user_id'].unique())))"
   ]
  },
  {
   "cell_type": "markdown",
   "metadata": {},
   "source": [
    "## Función numero tres"
   ]
  },
  {
   "cell_type": "markdown",
   "metadata": {},
   "source": [
    "Antes de inicar a eleaborar la funcion numeros tres debemos de realizar un proceso de ETL de nuestro dataFRame (datya_games). el primer paso que vamos a realizar es de filtrar aquella columna donde genres y tags son vacias, con el fin de descartar aquellos viedo juegos que no tenga genero"
   ]
  },
  {
   "cell_type": "code",
   "execution_count": 204,
   "metadata": {},
   "outputs": [],
   "source": [
    "data_games = data_games[(data_games['genres'].notna()) & (data_games['tags'].notna())]"
   ]
  },
  {
   "cell_type": "markdown",
   "metadata": {},
   "source": [
    "Como nuestra columna genres esta conpuesto por filas llenas de lista las cuales tienen formato tipo strin debemos de convertir esta columna de tipo strin a tipo lista"
   ]
  },
  {
   "cell_type": "code",
   "execution_count": null,
   "metadata": {},
   "outputs": [],
   "source": [
    "data_games['genres'] = data_games['genres'].apply(ast.literal_eval)"
   ]
  },
  {
   "cell_type": "markdown",
   "metadata": {},
   "source": [
    "Obtenemos el primer elemento de las lista que se encuestran dentro de la columna genres y la guardamos en una nueva columna de nobre primer_genero"
   ]
  },
  {
   "cell_type": "code",
   "execution_count": null,
   "metadata": {},
   "outputs": [],
   "source": [
    "data_games['primer_genero'] = data_games['genres'].str.get(0)"
   ]
  },
  {
   "cell_type": "markdown",
   "metadata": {},
   "source": [
    "Observamos una lista de unicos elemento de la columna genres y podemos detectar que exiten generos que no pretenece a video juegos"
   ]
  },
  {
   "cell_type": "code",
   "execution_count": null,
   "metadata": {},
   "outputs": [],
   "source": [
    "data_games['primer_genero'].unique()\n",
    "\n",
    "array(['Action', 'Free to Play', 'Casual', 'Adventure', 'Racing',\n",
    "       'Strategy', 'Indie', 'RPG', 'Simulation', 'Sports',\n",
    "       'Massively Multiplayer', 'Animation &amp; Modeling', 'Utilities',\n",
    "       'Education', 'Design &amp; Illustration', 'Audio Production',\n",
    "       'Video Production', 'Software Training', 'Accounting',\n",
    "       'Web Publishing', 'Photo Editing', 'Early Access'], dtype=object) "
   ]
  },
  {
   "cell_type": "markdown",
   "metadata": {},
   "source": [
    "En base al anterior paso eleaboramos una lista de los generos que no pertenecen a la categoria de video juego con el fin de desvartarlos"
   ]
  },
  {
   "cell_type": "code",
   "execution_count": null,
   "metadata": {},
   "outputs": [],
   "source": [
    "genero_descartar= ['Animation &amp; Modeling', 'Utilities',\n",
    "       'Education', 'Design &amp; Illustration', 'Audio Production',\n",
    "       'Video Production', 'Software Training', 'Accounting',\n",
    "       'Web Publishing', 'Photo Editing', 'Early Access']"
   ]
  },
  {
   "cell_type": "markdown",
   "metadata": {},
   "source": [
    "Filtramos aquellos juegos que no pertencen a la lista genero_descartar"
   ]
  },
  {
   "cell_type": "code",
   "execution_count": null,
   "metadata": {},
   "outputs": [],
   "source": [
    "data_games['genres_games']=data_games[~data_games['primer_genero'].isin(genero_descartar)]['primer_genero'] # ~ se usa para negar la condicion"
   ]
  },
  {
   "cell_type": "markdown",
   "metadata": {},
   "source": [
    "De nuestro dataFrame genres_games vamos a crear un dataFrame auxiliar que contengas solo las columnas id y genres_games con el proposito de realizar un iner join con el DataFrame data_items"
   ]
  },
  {
   "cell_type": "code",
   "execution_count": null,
   "metadata": {},
   "outputs": [],
   "source": [
    "df_auxiliar= data_games[['genres_games', 'id']]"
   ]
  },
  {
   "cell_type": "markdown",
   "metadata": {},
   "source": [
    "Cambiamos el nombre de la columna id a item_id para que concida con el nombre de la columna que tenemos en el archivo data_items y poder hacer el iner join"
   ]
  },
  {
   "cell_type": "code",
   "execution_count": null,
   "metadata": {},
   "outputs": [],
   "source": [
    "## cambiamos el nombre de la columna id a item_id para que concida con la columna que tenemos en el archivo data_items\n",
    "df_auxiliar['item_id']=df_auxiliar['id']\n",
    "\n",
    "## eiminamos la columna id\n",
    "df_auxiliar=df_auxiliar.drop(columns='id')"
   ]
  },
  {
   "cell_type": "markdown",
   "metadata": {},
   "source": [
    "Unimos los dos dataFrame a traves de la columna item_id"
   ]
  },
  {
   "cell_type": "code",
   "execution_count": null,
   "metadata": {},
   "outputs": [],
   "source": [
    "data_items=pd.merge(data_items, df_auxiliar, on='item_id', how='inner')"
   ]
  },
  {
   "cell_type": "markdown",
   "metadata": {},
   "source": [
    "Filtramos los valores donde la columa generes_games es diferentes a vacios"
   ]
  },
  {
   "cell_type": "code",
   "execution_count": null,
   "metadata": {},
   "outputs": [],
   "source": [
    "data_items=data_items[data_items['genres_games'].notna()]"
   ]
  },
  {
   "cell_type": "markdown",
   "metadata": {},
   "source": [
    "## Nota:"
   ]
  },
  {
   "cell_type": "markdown",
   "metadata": {},
   "source": [
    "El dataFRame original de data_itmes originalmente tenia 5153209 fila y cundo hacemos el filtro esta psa a tenes 4188785 filas debido a que como eliminamos categorias que no pertenecia a video juegos y por ende eliminamos item_id que no correspondian a niguna categoria de video juego por lo cual el numero de fila se vio reducida"
   ]
  },
  {
   "cell_type": "code",
   "execution_count": null,
   "metadata": {},
   "outputs": [],
   "source": [
    "data_items.shape"
   ]
  },
  {
   "cell_type": "markdown",
   "metadata": {},
   "source": [
    "#### Exportamos estos cambios a con el fin de no tener que volver hecer todo este proceso de ETL para poder correr nuestras funciones directamente"
   ]
  },
  {
   "cell_type": "code",
   "execution_count": null,
   "metadata": {},
   "outputs": [],
   "source": [
    "data_items.to_csv('items.csv', index=False)"
   ]
  },
  {
   "cell_type": "markdown",
   "metadata": {},
   "source": [
    "## Codigo de la función numero tres"
   ]
  },
  {
   "cell_type": "code",
   "execution_count": 64,
   "metadata": {},
   "outputs": [
    {
     "data": {
      "text/html": [
       "<div>\n",
       "<style scoped>\n",
       "    .dataframe tbody tr th:only-of-type {\n",
       "        vertical-align: middle;\n",
       "    }\n",
       "\n",
       "    .dataframe tbody tr th {\n",
       "        vertical-align: top;\n",
       "    }\n",
       "\n",
       "    .dataframe thead th {\n",
       "        text-align: right;\n",
       "    }\n",
       "</style>\n",
       "<table border=\"1\" class=\"dataframe\">\n",
       "  <thead>\n",
       "    <tr style=\"text-align: right;\">\n",
       "      <th></th>\n",
       "      <th>user_id</th>\n",
       "      <th>user_url</th>\n",
       "      <th>playtime_forever</th>\n",
       "    </tr>\n",
       "  </thead>\n",
       "  <tbody>\n",
       "    <tr>\n",
       "      <th>0</th>\n",
       "      <td>Sp3ctre</td>\n",
       "      <td>http://steamcommunity.com/id/Sp3ctre</td>\n",
       "      <td>1699287</td>\n",
       "    </tr>\n",
       "    <tr>\n",
       "      <th>1</th>\n",
       "      <td>shinomegami</td>\n",
       "      <td>http://steamcommunity.com/id/shinomegami</td>\n",
       "      <td>1580428</td>\n",
       "    </tr>\n",
       "    <tr>\n",
       "      <th>2</th>\n",
       "      <td>REBAS_AS_F-T</td>\n",
       "      <td>http://steamcommunity.com/id/REBAS_AS_F-T</td>\n",
       "      <td>1456212</td>\n",
       "    </tr>\n",
       "    <tr>\n",
       "      <th>3</th>\n",
       "      <td>Terminally-Chill</td>\n",
       "      <td>http://steamcommunity.com/id/Terminally-Chill</td>\n",
       "      <td>1065742</td>\n",
       "    </tr>\n",
       "    <tr>\n",
       "      <th>4</th>\n",
       "      <td>DownSyndromeKid</td>\n",
       "      <td>http://steamcommunity.com/id/DownSyndromeKid</td>\n",
       "      <td>1061086</td>\n",
       "    </tr>\n",
       "  </tbody>\n",
       "</table>\n",
       "</div>"
      ],
      "text/plain": [
       "            user_id                                       user_url  \\\n",
       "0           Sp3ctre           http://steamcommunity.com/id/Sp3ctre   \n",
       "1       shinomegami       http://steamcommunity.com/id/shinomegami   \n",
       "2      REBAS_AS_F-T      http://steamcommunity.com/id/REBAS_AS_F-T   \n",
       "3  Terminally-Chill  http://steamcommunity.com/id/Terminally-Chill   \n",
       "4   DownSyndromeKid   http://steamcommunity.com/id/DownSyndromeKid   \n",
       "\n",
       "   playtime_forever  \n",
       "0           1699287  \n",
       "1           1580428  \n",
       "2           1456212  \n",
       "3           1065742  \n",
       "4           1061086  "
      ]
     },
     "execution_count": 64,
     "metadata": {},
     "output_type": "execute_result"
    }
   ],
   "source": [
    "# INGRESA UN GENERO \n",
    "genre('Action')"
   ]
  },
  {
   "cell_type": "code",
   "execution_count": 63,
   "metadata": {},
   "outputs": [],
   "source": [
    "def genre(genero:str):\n",
    "    # usamos una maskara para filtrar las columnas con que vamos a trabajar\n",
    "    ranking = data_items[data_items['genres_games'] == genero][['user_id', 'user_url', 'playtime_forever']]\n",
    "\n",
    "    # Realizar la operación de agrupación y suma\n",
    "    ranking = ranking.groupby('user_id').agg({'playtime_forever': 'sum', 'user_url': 'first'})\n",
    "\n",
    "    # Ordenar el ranking por 'playtime_forever'\n",
    "    ranking = ranking.sort_values(by='playtime_forever', ascending=False).reset_index()\n",
    "\n",
    "    # ordenamos las columnas\n",
    "    ranking=ranking[['user_id','user_url','playtime_forever']]\n",
    "\n",
    "    # Mostrar las 5 mejores filas\n",
    "    ranking.head(5)\n",
    "    \n",
    "    return(ranking.head(5))\n"
   ]
  }
 ],
 "metadata": {
  "kernelspec": {
   "display_name": "Python 3",
   "language": "python",
   "name": "python3"
  },
  "language_info": {
   "codemirror_mode": {
    "name": "ipython",
    "version": 3
   },
   "file_extension": ".py",
   "mimetype": "text/x-python",
   "name": "python",
   "nbconvert_exporter": "python",
   "pygments_lexer": "ipython3",
   "version": "3.11.3"
  },
  "orig_nbformat": 4
 },
 "nbformat": 4,
 "nbformat_minor": 2
}
